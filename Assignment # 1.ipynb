{
 "cells": [
  {
   "cell_type": "code",
   "execution_count": 2,
   "id": "aed575d1",
   "metadata": {},
   "outputs": [
    {
     "name": "stdout",
     "output_type": "stream",
     "text": [
      "Twinkle, twinkle, little star, \n",
      "\t How I wonder what you are! \n",
      "\t\t Up above the world so high,\n",
      "\t\t Like a diamond in the sky. \n",
      "Twinkle, twinkle, little star, \n",
      "\t How I wonder what you are\n"
     ]
    }
   ],
   "source": [
    "# Q1. Write a Python program to print the following string in a specific format (see the output).\n",
    "                  #Twinkle, twinkle, little star,\n",
    "                          #How I wonder what you are!\n",
    "                                    #Up above the world so high,\n",
    "                                    #Like a diamond in the sky.\n",
    "                 #Twinkle, twinkle, little star,\n",
    "                         #How I wonder what you are\n",
    "                        \n",
    "##-------------------------------------ANSWER-----------------------------------##\n",
    "\n",
    "print(\"Twinkle, twinkle, little star, \\n\\t How I wonder what you are! \\n\\t\\t Up above the world so high,\\n\\t\\t Like a diamond in the sky. \\nTwinkle, twinkle, little star, \\n\\t How I wonder what you are\")\n"
   ]
  },
  {
   "cell_type": "code",
   "execution_count": 3,
   "id": "a21c006d",
   "metadata": {},
   "outputs": [
    {
     "name": "stdout",
     "output_type": "stream",
     "text": [
      "Python Version 3.8.8 (default, Apr 13 2021, 15:08:03) [MSC v.1916 64 bit (AMD64)]\n"
     ]
    }
   ],
   "source": [
    "#Q2. Write a Python program to get the Python version you are using\n",
    "\n",
    "##-------------------------------------ANSWER-----------------------------------##\n",
    "\n",
    "import sys\n",
    "print(\"Python Version\", sys.version)"
   ]
  },
  {
   "cell_type": "code",
   "execution_count": 4,
   "id": "459ecfda",
   "metadata": {},
   "outputs": [
    {
     "name": "stdout",
     "output_type": "stream",
     "text": [
      "Current date and time :\n",
      " 2022-01-02 14:56:33\n"
     ]
    }
   ],
   "source": [
    "#Q3. Write a Python program to display the current date and time.\n",
    "\n",
    "##-------------------------------------ANSWER-----------------------------------##\n",
    "\n",
    "import datetime\n",
    "now = datetime.datetime.now().strftime(\"%Y-%m-%d %H:%M:%S\")\n",
    "print (\"Current date and time :\\n\", now)"
   ]
  },
  {
   "cell_type": "code",
   "execution_count": 5,
   "id": "73bb9de7",
   "metadata": {},
   "outputs": [
    {
     "name": "stdout",
     "output_type": "stream",
     "text": [
      "Input the radius of the circle : 3\n",
      "The area of the circle with radius 3.0 is: 28.274333882308138\n"
     ]
    }
   ],
   "source": [
    "#Q4. Write a Python program which accepts the radius of a circle from the user and compute the area.\n",
    "\n",
    "##-------------------------------------ANSWER-----------------------------------##\n",
    "from math import pi\n",
    "\n",
    "r= float(input (\"Input the radius of the circle : \"))\n",
    "print (\"The area of the circle with radius \" + str(r) + \" is: \" + str(pi * r**2))"
   ]
  },
  {
   "cell_type": "code",
   "execution_count": 7,
   "id": "82b83c51",
   "metadata": {},
   "outputs": [
    {
     "name": "stdout",
     "output_type": "stream",
     "text": [
      "What is your First Name? : Madiha\n",
      "What is your Last Name? : Eman\n",
      "ahidaM namE\n"
     ]
    }
   ],
   "source": [
    "#Q5. Write a Python program which accepts the user's first and last name and print them in reverse order with a space between them.\n",
    "\n",
    "##-------------------------------------ANSWER-----------------------------------##\n",
    "\n",
    "fName = input(\"What is your First Name? : \")\n",
    "lName = input(\"What is your Last Name? : \")\n",
    "print ( fName[::-1] + \" \" + lName[::-1])"
   ]
  },
  {
   "cell_type": "code",
   "execution_count": 8,
   "id": "24b948d5",
   "metadata": {},
   "outputs": [
    {
     "name": "stdout",
     "output_type": "stream",
     "text": [
      "Enter first number: 4\n",
      "Enter 2nd number: 5\n",
      "9\n"
     ]
    }
   ],
   "source": [
    "#Q6. Write a python program which takes two inputs from user and print them addition\n",
    "\n",
    "##-------------------------------------ANSWER-----------------------------------##\n",
    "\n",
    "a = int(input(\"Enter first number: \"))\n",
    "b =int(input(\"Enter 2nd number: \"));\n",
    "total = a + b\n",
    "print(total)"
   ]
  }
 ],
 "metadata": {
  "kernelspec": {
   "display_name": "Python 3",
   "language": "python",
   "name": "python3"
  }
 },
 "nbformat": 4,
 "nbformat_minor": 5
}
